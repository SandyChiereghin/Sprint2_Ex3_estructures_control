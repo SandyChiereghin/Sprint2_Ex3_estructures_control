{
 "cells": [
  {
   "cell_type": "markdown",
   "id": "9b9c2514-7d4a-4aa2-bdc2-07cc9f707af0",
   "metadata": {},
   "source": [
    "# Sprint2_Ex3_estructures_control"
   ]
  },
  {
   "cell_type": "markdown",
   "id": "137bbde2-eaf9-4a7e-8c1e-c5aa2989bc63",
   "metadata": {},
   "source": [
    "#### Ex1.\n",
    "\n",
    "L'exercici consisteix a crear un programa que et classifiqui una variable numèrica en funció de l’escala Suspès/Aprovat/Notable/Excel·lent."
   ]
  },
  {
   "cell_type": "markdown",
   "id": "a14d02b1-e47f-4c78-b8e7-998523e59ec6",
   "metadata": {},
   "source": [
    "print(\"Escribe una nota de 1 a 10\")\n",
    "nota = int(input())\n",
    "\n",
    "if nota <5:\n",
    "    print(\"Has suspendido\")\n",
    "elif nota >= 5 and nota <= 6:\n",
    "    print(\"Has aprobado\")\n",
    "elif nota >= 7 and nota <= 9:\n",
    "    print(\"Tienes un notable.\")\n",
    "else:\n",
    "     print (\"Trabajo exelente!\")\n",
    "        "
   ]
  },
  {
   "cell_type": "markdown",
   "id": "44ad1768-336f-4ce8-8216-0787ba666ae5",
   "metadata": {},
   "source": [
    "#### Ex2.\n",
    "\n",
    "Utilitzant el següent tutorial Programiz: Python Input, Output and Import crea un programa que et pregunti dos números. \n",
    "T’ha de mostrar un missatge dient si el primer és més gran, el segon és més gran o són iguals."
   ]
  },
  {
   "cell_type": "code",
   "execution_count": 16,
   "id": "3691f541-e4d0-48e1-a825-81da34509a03",
   "metadata": {},
   "outputs": [
    {
     "name": "stdout",
     "output_type": "stream",
     "text": [
      "Vamos a escribir dos números, introduzca ahora el primero.\n"
     ]
    },
    {
     "name": "stdin",
     "output_type": "stream",
     "text": [
      " 4\n"
     ]
    },
    {
     "name": "stdout",
     "output_type": "stream",
     "text": [
      "Ahora introduzca en segundo número.\n"
     ]
    },
    {
     "name": "stdin",
     "output_type": "stream",
     "text": [
      " 6\n"
     ]
    },
    {
     "name": "stdout",
     "output_type": "stream",
     "text": [
      "El segundo número intorducido es major que el primero.\n"
     ]
    }
   ],
   "source": [
    "print(\"Vamos a escribir dos números, introduzca ahora el primero.\")\n",
    "num1 = int(input())\n",
    "\n",
    "print(\"Ahora introduzca en segundo número.\")\n",
    "num2 = int(input())\n",
    "\n",
    "if num1 > num2:\n",
    "    print(\"El primer número intorducido es major que el segundo.\")\n",
    "elif num1< num2:\n",
    "    print(\"El segundo número intorducido es major que el primero.\")\n",
    "elif num1 == num2:\n",
    "    print(\"Los números son iguales\")"
   ]
  },
  {
   "cell_type": "markdown",
   "id": "6ea842c4-8e54-4e9a-a814-4d9637459f72",
   "metadata": {},
   "source": [
    "#### Ex3.\n",
    "\n",
    "Crea un programa que et pregunti el teu nom, i et demani un número. Si el número és 0, hauria de mostrar un missatge d’error. En cas contrari, hauria de mostrar el nom repetit tants cops com indiqui el número. Per exemple, “Joan Joan Joan”."
   ]
  },
  {
   "cell_type": "code",
   "execution_count": 37,
   "id": "163b88d6-81d2-4ad5-90ec-dbf234c2e763",
   "metadata": {},
   "outputs": [
    {
     "name": "stdout",
     "output_type": "stream",
     "text": [
      "Cómo te llamas?\n"
     ]
    },
    {
     "name": "stdin",
     "output_type": "stream",
     "text": [
      " Sandy\n"
     ]
    },
    {
     "name": "stdout",
     "output_type": "stream",
     "text": [
      "Escribe un número\n"
     ]
    },
    {
     "name": "stdin",
     "output_type": "stream",
     "text": [
      " 5\n"
     ]
    },
    {
     "name": "stdout",
     "output_type": "stream",
     "text": [
      "Sandy\n",
      "Sandy\n",
      "Sandy\n",
      "Sandy\n",
      "Sandy\n"
     ]
    }
   ],
   "source": [
    "print(\"Cómo te llamas?\")\n",
    "nombre= input()\n",
    "print(\"Escribe un número\")\n",
    "numero=int(input())\n",
    "\n",
    "if numero == 0:\n",
    "    print(\"Error, el número cero no está suportado escribe otro número\")\n",
    "    numero2=int(input())\n",
    "    for i in range (numero2):\n",
    "        print (nombre)\n",
    "\n",
    "for i in range (numero):\n",
    "    print (nombre)\n",
    "\n",
    "    \n"
   ]
  },
  {
   "cell_type": "markdown",
   "id": "930c13c6-72e0-4be1-9ca0-4983ddcb7afb",
   "metadata": {},
   "source": [
    "#### Ex4.\n",
    "\n",
    "Crea un programa que donada una llista qualsevol, et digui si es simètrica o no. Si ho és, que et digui quants elements té."
   ]
  },
  {
   "cell_type": "code",
   "execution_count": 49,
   "id": "4705423b-a49c-4bd8-83d1-25717c3afdf1",
   "metadata": {},
   "outputs": [
    {
     "name": "stdout",
     "output_type": "stream",
     "text": [
      "No es simetrica\n"
     ]
    }
   ],
   "source": [
    "lista3 = [1,2,3,2,4]\n",
    "\n",
    "if lista3[::] == lista3[::-1]:\n",
    "    print(\"Es simetrica\")\n",
    "else:\n",
    "    print(\"No es simetrica\")"
   ]
  },
  {
   "cell_type": "markdown",
   "id": "b032b464-a434-4e65-961d-0d7025f146ca",
   "metadata": {},
   "source": [
    "#### Ex5.\n",
    "\n",
    "Crea un programa que donada una llista, et digui quants números coincideixen amb la seva posició. Per exemple [3,4,2,0,2,3,6] el 2 i el 6 coincideixen."
   ]
  },
  {
   "cell_type": "code",
   "execution_count": 46,
   "id": "6b888eda-3531-4a5e-ad16-6e5b53fa0a58",
   "metadata": {},
   "outputs": [
    {
     "name": "stdout",
     "output_type": "stream",
     "text": [
      "2\n",
      "6\n"
     ]
    }
   ],
   "source": [
    "lista4 = [3,4,2,0,2,3,6] \n",
    "prova= []\n",
    "i = 0\n",
    "for i in range (len(lista4)):\n",
    "    if lista4[i] == i:\n",
    "        print(i)\n"
   ]
  },
  {
   "cell_type": "code",
   "execution_count": 28,
   "id": "736e7317-e5d1-4178-b1ae-57cd852a2ce8",
   "metadata": {},
   "outputs": [
    {
     "name": "stdout",
     "output_type": "stream",
     "text": [
      "[2, 3]\n"
     ]
    }
   ],
   "source": [
    "# enytendí mal el enunciado ( Ex extra).\n",
    "# nunmeros repetidos de una lista.\n",
    "\n",
    "lista4 = [3,4,2,0,2,3,6]   \n",
    "repetidos = []\n",
    "unicos = []\n",
    "\n",
    "for i in lista4 :\n",
    "    if i not in unicos:\n",
    "\t    unicos.append(i)\n",
    "    elif i not in repetidos:\n",
    "        repetidos.append(i)\n",
    "            \n",
    "print (repetidos)"
   ]
  },
  {
   "cell_type": "code",
   "execution_count": null,
   "id": "bb7d7031-ec9d-49d1-8f49-7a58dbd7f942",
   "metadata": {},
   "outputs": [],
   "source": []
  }
 ],
 "metadata": {
  "kernelspec": {
   "display_name": "Python 3 (ipykernel)",
   "language": "python",
   "name": "python3"
  },
  "language_info": {
   "codemirror_mode": {
    "name": "ipython",
    "version": 3
   },
   "file_extension": ".py",
   "mimetype": "text/x-python",
   "name": "python",
   "nbconvert_exporter": "python",
   "pygments_lexer": "ipython3",
   "version": "3.9.7"
  }
 },
 "nbformat": 4,
 "nbformat_minor": 5
}
